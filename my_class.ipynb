{
 "cells": [
  {
   "cell_type": "code",
   "execution_count": 3,
   "id": "6a991865-cb70-482e-bdd8-b007dd0ef618",
   "metadata": {},
   "outputs": [],
   "source": [
    "class MyClass:\n",
    "    def __init__(self, name, age, country):\n",
    "        self.name = name\n",
    "        self.age = age\n",
    "        self.country = country\n",
    "\n",
    "    def greeting(self):\n",
    "        print(f\"Hello {self.name}! How is {self.country}?\")\n",
    "\n",
    "    def scholarship_screen(self):\n",
    "        if self.age >= 45:\n",
    "            print(f\"Sorry {self.name}! You're not qualified for our scholarship\")\n",
    "        else:\n",
    "            print(f\"Congrats {self.name}! You're qualified for our scholarship\")\n",
    "\n",
    "    "
   ]
  },
  {
   "cell_type": "code",
   "execution_count": 6,
   "id": "78afc0ba-f3a6-42cc-b9f3-035c290888f2",
   "metadata": {},
   "outputs": [],
   "source": [
    "person = MyClass('Ken', 35, 'Nigeria')"
   ]
  },
  {
   "cell_type": "code",
   "execution_count": 7,
   "id": "bb5f99c8-1786-4d75-bf1f-ae29991978a8",
   "metadata": {},
   "outputs": [
    {
     "data": {
      "text/plain": [
       "'Ken'"
      ]
     },
     "execution_count": 7,
     "metadata": {},
     "output_type": "execute_result"
    }
   ],
   "source": [
    "person.name"
   ]
  },
  {
   "cell_type": "code",
   "execution_count": 8,
   "id": "8f354555-4fe1-45ed-804d-9258c4672ceb",
   "metadata": {},
   "outputs": [
    {
     "data": {
      "text/plain": [
       "35"
      ]
     },
     "execution_count": 8,
     "metadata": {},
     "output_type": "execute_result"
    }
   ],
   "source": [
    "person.age"
   ]
  },
  {
   "cell_type": "code",
   "execution_count": 9,
   "id": "483e703d-fc91-4c71-ab96-37e1bd663043",
   "metadata": {},
   "outputs": [
    {
     "data": {
      "text/plain": [
       "'Nigeria'"
      ]
     },
     "execution_count": 9,
     "metadata": {},
     "output_type": "execute_result"
    }
   ],
   "source": [
    "person.country"
   ]
  },
  {
   "cell_type": "code",
   "execution_count": 10,
   "id": "8ba9f976-c277-4c88-adca-d5c9f1e55bbe",
   "metadata": {},
   "outputs": [
    {
     "name": "stdout",
     "output_type": "stream",
     "text": [
      "Hello Ken! How is Nigeria?\n"
     ]
    }
   ],
   "source": [
    "person.greeting()"
   ]
  },
  {
   "cell_type": "code",
   "execution_count": 11,
   "id": "f39b5ba7-bcaa-45a7-90c7-82e9a574bee2",
   "metadata": {},
   "outputs": [
    {
     "name": "stdout",
     "output_type": "stream",
     "text": [
      "Congrats Ken! You're qualified for our scholarship\n"
     ]
    }
   ],
   "source": [
    "person.scholarship_screen()"
   ]
  },
  {
   "cell_type": "code",
   "execution_count": null,
   "id": "bac3f3ad-e448-49db-9f18-c0f73160a52d",
   "metadata": {},
   "outputs": [],
   "source": []
  },
  {
   "cell_type": "code",
   "execution_count": null,
   "id": "9fe3a629-ef51-41f0-8304-2666ccab953b",
   "metadata": {},
   "outputs": [],
   "source": []
  }
 ],
 "metadata": {
  "kernelspec": {
   "display_name": "Python 3 (ipykernel)",
   "language": "python",
   "name": "python3"
  },
  "language_info": {
   "codemirror_mode": {
    "name": "ipython",
    "version": 3
   },
   "file_extension": ".py",
   "mimetype": "text/x-python",
   "name": "python",
   "nbconvert_exporter": "python",
   "pygments_lexer": "ipython3",
   "version": "3.12.11"
  }
 },
 "nbformat": 4,
 "nbformat_minor": 5
}
