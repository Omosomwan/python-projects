{
 "cells": [
  {
   "cell_type": "markdown",
   "id": "ffa346cb-5c20-4d6e-bb82-b6f4016a6fcd",
   "metadata": {},
   "source": [
    "# Calculator Project"
   ]
  },
  {
   "cell_type": "code",
   "execution_count": 16,
   "id": "75b0f48b-5ec1-490e-b6b1-e3c4177f2dfa",
   "metadata": {},
   "outputs": [],
   "source": [
    "def calculator():\n",
    "    # Creating my input\n",
    "    print('====== Calculator ======')\n",
    "    print('Enter a number')\n",
    "    num1 = int(input())\n",
    "    print('Enter an operator (+, -, *, /)')\n",
    "    operator = input()\n",
    "    print('Enter a number')\n",
    "    num2 = int(input())\n",
    "\n",
    "    # Creating the output\n",
    "    if operator == '+':\n",
    "        print(num1, operator, num2,'=',num1 + num2)\n",
    "    elif operator == '-':\n",
    "        print(num1, operator, num2,'=', num1 - num2)\n",
    "    elif operator == '*':\n",
    "        print(num1, operator, num2,'=', num1 * num2)\n",
    "    elif operator == '/':\n",
    "        print(num1, operator, num2,'=', num1 / num2)\n",
    "    else:\n",
    "        print('Invalid operator')"
   ]
  },
  {
   "cell_type": "code",
   "execution_count": 8,
   "id": "a248ffac-983c-417e-9536-06e27246fd27",
   "metadata": {},
   "outputs": [
    {
     "name": "stdout",
     "output_type": "stream",
     "text": [
      "====== Calculator ======\n",
      "Enter a number\n"
     ]
    },
    {
     "name": "stdin",
     "output_type": "stream",
     "text": [
      " 2\n"
     ]
    },
    {
     "name": "stdout",
     "output_type": "stream",
     "text": [
      "Enter an operator (+, -, *, /)\n"
     ]
    },
    {
     "name": "stdin",
     "output_type": "stream",
     "text": [
      " +\n"
     ]
    },
    {
     "name": "stdout",
     "output_type": "stream",
     "text": [
      "Enter a number\n"
     ]
    },
    {
     "name": "stdin",
     "output_type": "stream",
     "text": [
      " 5\n"
     ]
    },
    {
     "name": "stdout",
     "output_type": "stream",
     "text": [
      "2 + 5 = 7\n"
     ]
    }
   ],
   "source": [
    "calculator()"
   ]
  },
  {
   "cell_type": "code",
   "execution_count": 17,
   "id": "a05bb9ee-3f42-477e-9662-a44f795ac19e",
   "metadata": {},
   "outputs": [
    {
     "name": "stdout",
     "output_type": "stream",
     "text": [
      "====== Calculator ======\n",
      "Enter a number\n"
     ]
    },
    {
     "name": "stdin",
     "output_type": "stream",
     "text": [
      " 250\n"
     ]
    },
    {
     "name": "stdout",
     "output_type": "stream",
     "text": [
      "Enter an operator (+, -, *, /)\n"
     ]
    },
    {
     "name": "stdin",
     "output_type": "stream",
     "text": [
      " /\n"
     ]
    },
    {
     "name": "stdout",
     "output_type": "stream",
     "text": [
      "Enter a number\n"
     ]
    },
    {
     "name": "stdin",
     "output_type": "stream",
     "text": [
      " 5\n"
     ]
    },
    {
     "name": "stdout",
     "output_type": "stream",
     "text": [
      "250 / 5 = 50.0\n"
     ]
    }
   ],
   "source": [
    "calculator()"
   ]
  },
  {
   "cell_type": "code",
   "execution_count": null,
   "id": "133f9982-5bba-4182-a3f2-cd4d0446a338",
   "metadata": {},
   "outputs": [],
   "source": []
  }
 ],
 "metadata": {
  "kernelspec": {
   "display_name": "Python 3 (ipykernel)",
   "language": "python",
   "name": "python3"
  },
  "language_info": {
   "codemirror_mode": {
    "name": "ipython",
    "version": 3
   },
   "file_extension": ".py",
   "mimetype": "text/x-python",
   "name": "python",
   "nbconvert_exporter": "python",
   "pygments_lexer": "ipython3",
   "version": "3.12.11"
  }
 },
 "nbformat": 4,
 "nbformat_minor": 5
}
